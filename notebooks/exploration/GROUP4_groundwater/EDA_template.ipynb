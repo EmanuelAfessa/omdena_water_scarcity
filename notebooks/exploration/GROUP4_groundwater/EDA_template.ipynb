{
 "cells": [
  {
   "cell_type": "markdown",
   "metadata": {},
   "source": [
    "# Exploratory Data Analysis Template\n"
   ]
  },
  {
   "cell_type": "markdown",
   "metadata": {},
   "source": [
    "## Libraries and data paths"
   ]
  },
  {
   "cell_type": "code",
   "execution_count": 1,
   "metadata": {},
   "outputs": [],
   "source": [
    "\n",
    "# data importing & processing\n",
    "import os\n",
    "import pandas as pd\n",
    "from datetime import date\n",
    "\n",
    "# dash & ploting\n",
    "import dash\n",
    "from dash import dcc, html, callback, Output, Input\n",
    "from dash.dependencies import Input, Output\n",
    "import plotly.express as px\n",
    "import plotly.graph_objs as go"
   ]
  },
  {
   "cell_type": "code",
   "execution_count": 2,
   "metadata": {},
   "outputs": [],
   "source": [
    "# declare paths\n",
    "path_notebooks=os.path.abspath(os.path.join(os.getcwd(), os.pardir))\n",
    "path_root = os.path.abspath(os.path.join(path_notebooks, os.pardir))\n",
    "path_data = os.path.join(path_root, 'datafiles/datamarts', 'query002_rainfall.csv')"
   ]
  },
  {
   "cell_type": "code",
   "execution_count": 3,
   "metadata": {},
   "outputs": [
    {
     "name": "stdout",
     "output_type": "stream",
     "text": [
      "<class 'pandas.core.frame.DataFrame'>\n",
      "RangeIndex: 2192 entries, 0 to 2191\n",
      "Data columns (total 13 columns):\n",
      " #   Column                       Non-Null Count  Dtype  \n",
      "---  ------                       --------------  -----  \n",
      " 0   ID_IAREA                     2192 non-null   int64  \n",
      " 1   NAME                         2192 non-null   object \n",
      " 2   LATITUDE                     2192 non-null   float64\n",
      " 3   LONGITUDE                    2192 non-null   float64\n",
      " 4   COUNTRY                      2192 non-null   object \n",
      " 5   id_reg_nat                   2192 non-null   int64  \n",
      " 6   time                         2192 non-null   object \n",
      " 7   temperature_2m_mean          2192 non-null   float64\n",
      " 8   precipitation_sum            2192 non-null   float64\n",
      " 9   wind_speed_10m_max           2192 non-null   float64\n",
      " 10  wind_direction_10m_dominant  2192 non-null   int64  \n",
      " 11  et0_fao_evapotranspiration   2192 non-null   float64\n",
      " 12  id_area                      2192 non-null   int64  \n",
      "dtypes: float64(6), int64(4), object(3)\n",
      "memory usage: 222.8+ KB\n"
     ]
    }
   ],
   "source": [
    "df_eda = pd.read_csv(path_data)\n",
    "df_eda.info()"
   ]
  },
  {
   "cell_type": "markdown",
   "metadata": {},
   "source": [
    "# Graphs "
   ]
  },
  {
   "cell_type": "markdown",
   "metadata": {},
   "source": [
    "## Graph_01 : Precipitation_Trend"
   ]
  },
  {
   "cell_type": "code",
   "execution_count": 1,
   "metadata": {},
   "outputs": [
    {
     "ename": "NameError",
     "evalue": "name 'px' is not defined",
     "output_type": "error",
     "traceback": [
      "\u001b[0;31m---------------------------------------------------------------------------\u001b[0m",
      "\u001b[0;31mNameError\u001b[0m                                 Traceback (most recent call last)",
      "Cell \u001b[0;32mIn[1], line 2\u001b[0m\n\u001b[1;32m      1\u001b[0m \u001b[38;5;66;03m# line chart \u001b[39;00m\n\u001b[0;32m----> 2\u001b[0m fig \u001b[38;5;241m=\u001b[39m px\u001b[38;5;241m.\u001b[39mline(df_eda, x\u001b[38;5;241m=\u001b[39m \u001b[38;5;124m\"\u001b[39m\u001b[38;5;124mtime\u001b[39m\u001b[38;5;124m\"\u001b[39m, y\u001b[38;5;241m=\u001b[39m\u001b[38;5;124m\"\u001b[39m\u001b[38;5;124mprecipitation_sum\u001b[39m\u001b[38;5;124m\"\u001b[39m,   title\u001b[38;5;241m=\u001b[39m\u001b[38;5;124m'\u001b[39m\u001b[38;5;124mPrecipitation Trend\u001b[39m\u001b[38;5;124m'\u001b[39m)\n\u001b[1;32m      3\u001b[0m fig\u001b[38;5;241m.\u001b[39mupdate_layout(font_color\u001b[38;5;241m=\u001b[39m\u001b[38;5;124m\"\u001b[39m\u001b[38;5;124mwhite\u001b[39m\u001b[38;5;124m\"\u001b[39m, bargap\u001b[38;5;241m=\u001b[39m\u001b[38;5;241m0.2\u001b[39m,yaxis_title\u001b[38;5;241m=\u001b[39m\u001b[38;5;124m\"\u001b[39m\u001b[38;5;124mAmount of precipitation (mm)\u001b[39m\u001b[38;5;124m\"\u001b[39m,xaxis_title\u001b[38;5;241m=\u001b[39m\u001b[38;5;124m\"\u001b[39m\u001b[38;5;124mDays\u001b[39m\u001b[38;5;124m\"\u001b[39m , paper_bgcolor\u001b[38;5;241m=\u001b[39m\u001b[38;5;124m\"\u001b[39m\u001b[38;5;124mrgba(0,0,0,0)\u001b[39m\u001b[38;5;124m\"\u001b[39m, plot_bgcolor\u001b[38;5;241m=\u001b[39m\u001b[38;5;124m\"\u001b[39m\u001b[38;5;124mrgba(0,0,0,0)\u001b[39m\u001b[38;5;124m\"\u001b[39m )\n\u001b[1;32m      4\u001b[0m fig\u001b[38;5;241m.\u001b[39mshow(\u001b[38;5;124m\"\u001b[39m\u001b[38;5;124mnotebook\u001b[39m\u001b[38;5;124m\"\u001b[39m)\n",
      "\u001b[0;31mNameError\u001b[0m: name 'px' is not defined"
     ]
    }
   ],
   "source": [
    "# line chart \n",
    "fig = px.line(df_eda, x= \"time\", y=\"precipitation_sum\",   title='Precipitation Trend')\n",
    "fig.update_layout(font_color=\"white\", bargap=0.2,yaxis_title=\"Amount of precipitation (mm)\",xaxis_title=\"Days\" , paper_bgcolor=\"rgba(0,0,0,0)\", plot_bgcolor=\"rgba(0,0,0,0)\" )\n",
    "fig.show(\"notebook\")"
   ]
  },
  {
   "cell_type": "markdown",
   "metadata": {},
   "source": [
    "### Deductions from Graph_01 Precipitation Trends\n",
    "There are extreme highs each year during july and/or august. he data seem to indicate seasonality and sensitivity to time. \n"
   ]
  }
 ],
 "metadata": {
  "kernelspec": {
   "display_name": "Python 3 (ipykernel)",
   "language": "python",
   "name": "python3"
  },
  "language_info": {
   "codemirror_mode": {
    "name": "ipython",
    "version": 3
   },
   "file_extension": ".py",
   "mimetype": "text/x-python",
   "name": "python",
   "nbconvert_exporter": "python",
   "pygments_lexer": "ipython3",
   "version": "3.11.4"
  }
 },
 "nbformat": 4,
 "nbformat_minor": 2
}
